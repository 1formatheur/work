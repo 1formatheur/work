{
 "cells": [
  {
   "cell_type": "markdown",
   "metadata": {},
   "source": [
    "# ACTIVITÉ SNT - Informatique embarquée et objets connectés"
   ]
  },
  {
   "cell_type": "markdown",
   "metadata": {},
   "source": [
    "## BBC micro:bit\n",
    "Nous allons utiliser le microcontrôleur de poche **BBC micro:bit** et sa programmation en **Python**. Vous pouvez visiter le site officiel de la [Microbit Educational Foundation](http://microbit.org/fr) et la [documentation du BBC micro:bit MicroPython](https://microbit-micropython.readthedocs.io/fr/latest/).\n",
    "<img src=\"https://ericecmorlaix.github.io/img/bbcmicrobit.gif\" width=\"50%\">"
   ]
  },
  {
   "cell_type": "markdown",
   "metadata": {},
   "source": [
    "## Kesako ?\n",
    "\n",
    "**BBC micro:bit** est une carte à [microcontrôleur](https://fr.wikipedia.org/wiki/Microcontr%C3%B4leur) conçue en 2015 au Royaume-Uni pour développer l'apprentissage de l'algorithmique et de la programmation. Pourvu de capteurs et d'actionneurs, ce petit ordinateur possède la dernière technologie qui équipe les appareils modernes : téléphones mobiles, réfrigérateurs, montres intelligentes, alarmes antivol, robots, etc...\n",
    "\n",
    "Ainsi, il s'apparente à ce que l'on nomme l'**Internet des objets** : Internet of Things, abrégé **IoT**.\n",
    "\n",
    "micro:bit dispose des spécificités techniques suivantes :\n",
    "\n",
    "- 25 LEDs programmables individuellement\n",
    "- 2 boutons programmables\n",
    "- Broches de connexion\n",
    "- Capteurs de lumière et de température\n",
    "- Capteurs de mouvements (accéléromètre et boussole)\n",
    "- Communication sans fil, via Radio et Bluetooth\n",
    "- Interface USB\n",
    "\n",
    "Ce petit appareil intègre beaucoup de fonctionnalités : les 25 LEDs rouges peuvent afficher des messages, et deux boutons programmables pouvant être utilisés pour contrôler des jeux, ou, par exemple, faire une pause et sauter des chansons sur une liste de lecture ; le BBC micro:bit peut détecter le mouvement, la température, la luminosité, et vous dire dans quelle direction vous vous dirigez ; il peut aussi utiliser une connexion Bluetooth à faible énergie pour interagir avec d'autres appareils et Internet.\n",
    "\n",
    "<img src=\"https://microbit.org/images/microbit-hardware-access.jpg\" width=\"100%\">\n",
    "<center><figcaption><a href=\"https://microbit.org/fr/guide/features/\">Fonctionnalités du micro:bit</a></figcaption></center>\n",
    "\n",
    "\n"
   ]
  },
  {
   "cell_type": "markdown",
   "metadata": {},
   "source": [
    "## Programmation\n",
    "\n",
    "### Dans les cellules de code de ce notebook jupyter \n",
    "#### (carte micro:bit requise)\n",
    "\n",
    "Pour tester directement nos programmes depuis les cellules de ce bloc-note il faut démarrer un serveur jupyter notebook en local sur votre PC pour y ouvrir une copie de ce document.\n",
    "\n",
    "Dans le menu choisir `Kernel>Change Kernel>micro:bit`. Ce noyau sera disponible en suivant la procédure à cette adresse : https://github.com/takluyver/ubit_kernel\n",
    "\n",
    "### En l'absence de carte, utilisation d'un simulateur\n",
    "\n",
    "Le simulateur de micro:bit : https://create.withcode.uk/"
   ]
  },
  {
   "cell_type": "markdown",
   "metadata": {},
   "source": [
    "### Un premier programme\n",
    "Nous allons commencer par afficher quelques informations sur l'afficheur, matrice de 5x5 LEDs:\n",
    "<img src=\"https://microbit.org/images/beating-heart.gif\" alt=\"Matrice de 25 LEDs\" width=40%>"
   ]
  },
  {
   "cell_type": "code",
   "execution_count": null,
   "metadata": {},
   "outputs": [],
   "source": [
    "# Si vous ne possédez pas de carte, recopier ce programme dans le simulateur\n",
    "# Presser Ctrl + Entrée pour éxécuter le programme dans le simulateur\n",
    "\n",
    "# Pour les possesseurs de carte micro:bit, presser shift + Entrée comme dans ce notebook\n",
    "\n",
    "from microbit import *\n",
    "display.scroll(\"Ia Ora Na\")"
   ]
  },
  {
   "cell_type": "markdown",
   "metadata": {},
   "source": [
    "La première ligne de ce programme importe la bibliothèque de fonctions micro:bit. La deuxième ligne fait défiler un message à l’écran. Cela n'arrive qu'une seule fois."
   ]
  },
  {
   "cell_type": "markdown",
   "metadata": {},
   "source": [
    "### Exercice 1: \"hello world\" (modifier un programme)\n",
    "Modifier le programme précédent pour qu'il affiche le texte de ton choix."
   ]
  },
  {
   "cell_type": "markdown",
   "metadata": {},
   "source": [
    "### Défi 2: boucle infinie\n",
    "Le programme suivant utilise une boucle while pour faire défiler le message de manière répétée sur l’écran. L'instruction de veille `sleep()` provoque la pause du micro:bit pendant un nombre défini de millisecondes choisi entre parenthèses.\n",
    "Modifier le programme suivant pour qu'il fasse une pause de 3 secondes entre chaque affichage du mot \"Hello\". Il faudra remplir la bonne valeur à la place des \"???\"."
   ]
  },
  {
   "cell_type": "code",
   "execution_count": null,
   "metadata": {},
   "outputs": [],
   "source": [
    "from microbit import *\n",
    "while True:\n",
    "    display.scroll(\"Hello!\")\n",
    "    sleep(???)"
   ]
  },
  {
   "cell_type": "markdown",
   "metadata": {},
   "source": [
    "La boucle `while` se répète tant que la condition spécifiée est vraie (`True`). Dans ce cas, nous avons dit que la condition est vraie. Cela crée une boucle infinie. Le code qui doit être répété est en retrait (c'est une \"indentation\" du texte)."
   ]
  },
  {
   "cell_type": "markdown",
   "metadata": {},
   "source": [
    "## Prolongements\n",
    "je ferai l’activité « Recevoir des signaux GPS sur une carte Microbit » décrite au paragraphe 6 de cette page: http://www.astrovirtuel.fr/microbit/\n",
    "\n",
    "Les cartes Microbit récepteur seront déjà programmées et connectées aux ordis. La carte Microbit émetteur sera à l’extérieur de la classe pour qu’elle puisse recevoir correctement les signaux GPS. L’activité des élèves consistera à extraire les informations des trames NMEA qui s’affichent en live, en modifiant le code Python (donné) sous Spyder puis à faire en sorte de voir sur une carte la position du récepteur GPS.\n",
    "\n",
    "Laurent B."
   ]
  },
  {
   "cell_type": "code",
   "execution_count": null,
   "metadata": {},
   "outputs": [],
   "source": []
  }
 ],
 "metadata": {
  "kernelspec": {
   "display_name": "micro:bit",
   "language": "python",
   "name": "ubit"
  },
  "language_info": {
   "codemirror_mode": {
    "name": "python",
    "version": 3
   },
   "file_extension": ".py",
   "mimetype": "text/x-python",
   "name": "python",
   "pygments_lexer": "python3",
   "version": "3"
  }
 },
 "nbformat": 4,
 "nbformat_minor": 2
}
